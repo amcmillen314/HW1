{
  "nbformat": 4,
  "nbformat_minor": 0,
  "metadata": {
    "colab": {
      "private_outputs": true,
      "provenance": [],
      "collapsed_sections": [
        "RqhpdagcQ28W",
        "YMHPjghx-w9f"
      ]
    },
    "kernelspec": {
      "name": "python3",
      "display_name": "Python 3"
    }
  },
  "cells": [
    {
      "cell_type": "markdown",
      "metadata": {
        "id": "rvObaKKCzGwK"
      },
      "source": [
        "# Homework 1\n",
        "Complete the exercises working in your group. You may share the notebook with your group members using the share button in the upper right. Be careful with this feature. Although similar to Google Docs in functionality, you will notice that if two people are working on the same cell at the same time, then you may lose your work in that cell."
      ]
    },
    {
      "cell_type": "markdown",
      "metadata": {
        "id": "RqhpdagcQ28W"
      },
      "source": [
        "## Question 1\n",
        "Who are you? Introduce yourself and your group members, using multiple markdown features such as embedded pictures, links to your linkedin or webpage, sections and subsections, and more."
      ]
    },
    {
      "cell_type": "markdown",
      "metadata": {
        "id": "7Wj3r0m90AZu"
      },
      "source": [
        "## Question 2\n",
        "Find a Linux command (google it) and use it to:\n",
        "* determine how much memory is available to you in this colab notebook\n",
        "* which version of linux this colab notebook is running on\n",
        "* given what you just found, search for how to update the system and update it.\n",
        "\n",
        "Next, use linux to create a text file (hint use `touch`).\n",
        "\n",
        "Then use redirection (recall there are `>` or `|`) to write into the text file how much memory. Specifically, redirect the output of the first command to the file you created. Do the same for the information you found about the linux version.\n",
        "\n",
        "How many lines are in your text file now? Use a linux command to find out.\n",
        "\n",
        "Cut the first field (a.k.a. column) from your text file using the `cut` command. What does it say? Use a linux command to display it."
      ]
    },
    {
      "cell_type": "markdown",
      "metadata": {
        "id": "vsuQ9PQh3VJz"
      },
      "source": [
        "## Question 3\n",
        "Recall in notebook 1, an exercise posed the following question.\n",
        "> \"Harvard's tuition in 1970 was \\$4,070 (not including room, board, and fees).\n",
        "In 2019 it is \\$46,340.  What was the annual rate of increase over that period, treating it as if it had compounded continuously?\n",
        "\n",
        "\n",
        "Did Harvard's tuition have an higher annual rate of increase than other school's? In this question, your group needs to gather data on *five* other schools, compute the annual increase for them, and compare with Harvard's. Intermix with your code an interesting narrative that explains why you are interested in those five schools, what you expected to see in their rate of increase, and what is actually seen after making the calculations. Include links to any data sources you use, and pictures as well as other markdown features to make your response visually appealing.\n",
        "\n",
        "Here are example calculations to get you started."
      ]
    },
    {
      "cell_type": "markdown",
      "metadata": {
        "id": "jeUwsGbO8tAM"
      },
      "source": [
        "### Example calculations\n",
        "\n",
        "Emory's tuition in 1970 was $1,980 (not including room, board, and fees) [[Not Your Mother’s College\n",
        "Affordability Crisis ](https://deltacostproject.org/sites/default/files/products/Delta-Cost-Not-Your-Moms-Crisis_0.pdf)].\n",
        "\n",
        "In the 2020-2021 academic year, it is $53,070 [[Office of Undergraduate Admissions](https://apply.emory.edu/financial-aid/index.html)]. What was the annual rate of increase over that period, treating it as if it had compounded continuously?\n",
        "\n",
        "Solving for $r$ in the equation\n",
        "$$V = P e^{rt}$$\n",
        "one finds\n",
        "$$\\frac{\\log(V/P)}{t}= r$$"
      ]
    },
    {
      "cell_type": "code",
      "metadata": {
        "id": "r_yRitEX9aJ_"
      },
      "source": [
        "P = 1980\n",
        "V = 53070\n",
        "t = 2020-1970"
      ],
      "execution_count": null,
      "outputs": []
    },
    {
      "cell_type": "code",
      "metadata": {
        "id": "OL4uKN5o8a0L"
      },
      "source": [
        "r = np.log(V/P)/t\n",
        "r"
      ],
      "execution_count": null,
      "outputs": []
    },
    {
      "cell_type": "code",
      "metadata": {
        "id": "tlBilWZO-I71"
      },
      "source": [
        "percent = r*100"
      ],
      "execution_count": null,
      "outputs": []
    },
    {
      "cell_type": "code",
      "metadata": {
        "id": "GZqkerPR-dm-"
      },
      "source": [
        "f\"So the annual rate, compounded continuously, is {round(percent, 2)}%\"\n"
      ],
      "execution_count": null,
      "outputs": []
    },
    {
      "cell_type": "markdown",
      "metadata": {
        "id": "YMHPjghx-w9f"
      },
      "source": [
        "## Question 4\n",
        "\n",
        "Use the examples provided in the textbook to use Python to calculate:\n",
        "* The current date and time\n",
        "* The number of days since you were born (for each group member).\n",
        "* What day were you born on? (was it a Monday, Tuesday,...)\n",
        "* What day will it be when you turn 40? (will it be a Monday, Tuesday,...)\n",
        "* What date (which day in which month in which year) will it be when you turn 10000 days old?\n",
        "\n"
      ]
    },
    {
      "cell_type": "markdown",
      "metadata": {
        "id": "Skt2EJio2oNG"
      },
      "source": [
        "## Question 5\n",
        "### Buying a house\n",
        "Houses are expensive. Either many years of saved income or a loan are necessary to purchase a house.\n",
        "\n",
        "By making calculations based around a simple model, in this problem you will explore the influence that the interest rate on mortgages (i.e. home loans) has on home prices.\n",
        "\n",
        "#### Variables\n",
        " We will denote the interest rate on mortgages with the python variable `rate`, the purchase price of the home with the variable `purchase_price`, the amount of yearly spending/saving that a buyer can afford with the variable `house_spend`, and the amount of property taxes with the `prop_tax=(0.01)*purchase price` (which is approximately correct for Georgia)."
      ]
    },
    {
      "cell_type": "code",
      "metadata": {
        "id": "oE52wq4uPngf"
      },
      "source": [
        "#@title Interest rate on 30 year mortgage (e.g. if 3%, enter 3)\n",
        "percentage =  5#@param {type:\"number\"}\n",
        "rate = percentage/100"
      ],
      "execution_count": null,
      "outputs": []
    },
    {
      "cell_type": "markdown",
      "metadata": {
        "id": "fCuGVbYAPmv4"
      },
      "source": [
        "\n",
        "\n",
        "#### Model\n",
        "The specifics of loans for home buying vary greatly from one country to the next. For simplicity, we will base this model around home buying in the United States. Similarly, we will assume that the income of the home buyer is the [median income in the US](https://fred.stlouisfed.org/series/MEHOINUSA672N), $63,179, and that the amount `house_spend` is the [maximum usually suggested](https://www.forbes.com/sites/forbesfinancecouncil/2020/04/10/determining-what-percent-of-your-income-you-can-afford-to-spend-on-your-home/#544cda8737b0), namely 1/4 of gross income. Hence the variable `house_spend` we will fix as follows."
      ]
    },
    {
      "cell_type": "code",
      "metadata": {
        "id": "e_hWl1dQPWJw"
      },
      "source": [
        "house_spend=63179/4"
      ],
      "execution_count": null,
      "outputs": []
    },
    {
      "cell_type": "markdown",
      "metadata": {
        "id": "T8t8oL-cPU6M"
      },
      "source": [
        "###Extreme Buyer Profiles\n",
        "Consider the following two extremes in the profiles of home buyers.  \n",
        "\n",
        "#### Saver profile\n",
        "The *saver* insists on buying a house in cash, without a loan. Note, interest rates will impact the saver, as you should assume they put the money they are saving towards a house purchase into a safe liquid investment that earns interest. For example, 10 year US treasuries. For simplicity, you may assume that this interest rate is the same as the rate `r` on mortgages. In reality it is lower, but they are strongly correlated.\n",
        "\n",
        "#### Renter profile\n",
        "The *renter* profile insists on buying a house with as little cash as possible. For example, they may be attempting *interest rate arbitrage*, where one invests whatever cash they have in investments which they hope will have a higher rate of return over the liftime of the home loan than the interest rate `rate` on the home loan. Or, they simply may not have the cash to spend.\n",
        "Typically, to avoid additional fees, it is necessary to make a down payment of 20% of the purchase price of the home, while the minimum down payment allowed is 5%. The loan term is most often 30 years, meaning the amount borrowed is paid back in full over 30 years, although 15 and 10 are also used by some buyers to minimize the amount paid in interest. Since the renter profile is taking borrowing to the extremes, we will assume they use a 30 year loan term.\n",
        "\n",
        "For simplicity, we will assume in the calculations we make below that the renter profile puts 0% down towards the purchase price and borrows the purchase price at the interest rate `rate`.\n"
      ]
    },
    {
      "cell_type": "markdown",
      "metadata": {
        "id": "IF1_BPGluxxM"
      },
      "source": [
        "\n",
        "#### Example calculations\n",
        "Let's look at two examples to get you started on the exercise.\n",
        "\n",
        "#### Example 1\n",
        "Let's start by calculating the price the *saver profile* can afford to pay for a house if they save for 10 years. We will assume they start with 0 dollars and make yearly contributions into a savings account which pays a rate of interest `rate`. A formula for considering the effect of interest on these contributions can be found [here](http://www.moneychimp.com/articles/finworks/fmbasinv.htm). We use it below.\n"
      ]
    },
    {
      "cell_type": "code",
      "metadata": {
        "id": "vKFOzAgyRfRC"
      },
      "source": [
        "time = 10 # In years"
      ],
      "execution_count": null,
      "outputs": []
    },
    {
      "cell_type": "code",
      "metadata": {
        "id": "sZZV-DzZQyzA"
      },
      "source": [
        "saver_house_price =  house_spend*( ((1 + rate)**time - 1) / rate )"
      ],
      "execution_count": null,
      "outputs": []
    },
    {
      "cell_type": "code",
      "metadata": {
        "id": "bK93Mgw3ZFBU"
      },
      "source": [
        "f\"After 10 years, the saver profile can afford to buy a house in cash with a purchase price of ${round(saver_house_price,0)}\""
      ],
      "execution_count": null,
      "outputs": []
    },
    {
      "cell_type": "markdown",
      "metadata": {
        "id": "M4LrwyqEaGA7"
      },
      "source": [
        "#### Example 2\n",
        "Next, let's calculate what the renter profile can afford. Recall, we will assume they are borrowing the full purchase price. So given they have `house_spend` to spend on their mortgage payment (interest and principle), what purchase price do we get?\n",
        "\n",
        "Mortgages are paid monthly, hence the interest updates monthly. So for this calculation, we need to divide the `house_spend` by 12 to get the monthly payment they can afford."
      ]
    },
    {
      "cell_type": "code",
      "metadata": {
        "id": "8O81SxEft6cz"
      },
      "source": [
        "affordable_monthly_payment = house_spend/12\n",
        "affordable_monthly_payment"
      ],
      "execution_count": null,
      "outputs": []
    },
    {
      "cell_type": "markdown",
      "metadata": {
        "id": "tkqfyI2ZsdX4"
      },
      "source": [
        "The following formula can be obtained from the one found [here](https://www.mtgprofessor.com/formulas.htm) using algebra. The variables it uses are the loan term of `n` months at a monthly interest rate of `c`. If the quoted rate is 6%, for example, `c` is `.06/12` or `.005`.\n"
      ]
    },
    {
      "cell_type": "code",
      "metadata": {
        "id": "z0vHtyHWupcM"
      },
      "source": [
        "c=rate/12 # monthly interest rate\n",
        "n = 12*30 # number of months in 30 years"
      ],
      "execution_count": null,
      "outputs": []
    },
    {
      "cell_type": "code",
      "metadata": {
        "id": "XVXCdRxdtc9I"
      },
      "source": [
        "renter_house_price = affordable_monthly_payment/( (c*(1 + c)**n)/((1 + c)**n - 1))"
      ],
      "execution_count": null,
      "outputs": []
    },
    {
      "cell_type": "code",
      "metadata": {
        "id": "hgZmoFaVwX8b"
      },
      "source": [
        "f\"The renter profile can afford to buy a house with a purchase price of ${round(renter_house_price,0)}\""
      ],
      "execution_count": null,
      "outputs": []
    },
    {
      "cell_type": "markdown",
      "metadata": {
        "id": "tr8WPdToQxih"
      },
      "source": [
        "\n",
        "\n",
        "#### Tasks\n",
        "Use the python code we presented to answer the following questions.\n",
        "\n",
        "1. With rates at 3%, the renter profile can afford a house which costs \\$312,196. How many years would the saver profile have to save to afford that? Next, choose a precise interest rate (e.g. 5.78%) that reflects current rates on conventional 30-year mortgages. Enter it above as the value of the python variable `rate`. Give citations supporting the interest rate you use. Then make a calculation to answer the following question. How many years will it take for the saver profile buyer to save enough to purchase the home that the renter profile can afford with interest rates at your chosen level?  \n",
        "2. With rates at 5%, calculate what how many years the saver profile needs to save to be able to buy a house which is priced at the current median price for homes in Atlanta. You may use the [Zillow approximation to this](https://www.zillow.com/atlanta-ga/home-values/) or source your own data. Again use links to support your data and explain to the reader what your number means and where it comes from.\n",
        "3. What if the interest rate is 2.5% instead of 5%? What if it is 16% as it was in the 1982? Repeat the calculation in the previous question with these new interest rates.\n",
        "4. Suppose that a house is currently on the market with an asking price of \\$725000 at current interest rates on a 30-year loan. Calculate how large `house_spend` would need to be for the renter profile buyer to be able to purchase this house. Support which interest rate you are using with links.\n",
        "5. Suppose interest rates suddenly climb a percentage point from the one you used in task 4. Redo the previous calculation to see what `house_spend` needs to be under this new interest rate.\n",
        "6. Suppose that suddenly interest rates drop a percentage point from the one you used in task 4. What can the renter afford to pay now? Should the home sellers raise the asking price from \\$725000 to a higher number?  \n",
        "\n",
        "*Bonus question (1 point)*: When, historically, were the least years required for the saver profile, with a median income for the time, to buy a median priced home? When, historically, was the renter profile able to purchase the most expensive home, assuming the monthly house spend they are making is based on median income for the time as we did in our model.\n",
        "\n"
      ]
    }
  ]
}